{
 "cells": [
  {
   "cell_type": "code",
   "execution_count": null,
   "metadata": {},
   "outputs": [],
   "source": [
    "#|default_exp data.loading"
   ]
  },
  {
   "cell_type": "markdown",
   "metadata": {},
   "source": [
    "# Loading\n",
    "\n",
    "> Utility function to load MIRS spectra (target) and wet chemistry"
   ]
  },
  {
   "cell_type": "code",
   "execution_count": null,
   "metadata": {},
   "outputs": [],
   "source": [
    "#hide\n",
    "from nbdev.showdoc import *"
   ]
  },
  {
   "cell_type": "code",
   "execution_count": null,
   "metadata": {},
   "outputs": [],
   "source": [
    "#|export\n",
    "from pathlib import Path\n",
    "import pandas as pd\n",
    "import pickle\n",
    "import numpy as np\n",
    "from fastcore.test import *\n",
    "from typing import List\n",
    "\n",
    "pd.set_option('display.max_rows', 500)"
   ]
  },
  {
   "cell_type": "code",
   "execution_count": null,
   "metadata": {},
   "outputs": [],
   "source": [
    "#|export\n",
    "def get_spectra(fname:str, # folder path containing data\n",
    "                 org_name:str='organization', # column name containing name of the organization\n",
    "                 id_name:str='sample_id',# column name containing name of the organization\n",
    "                 wn_colrange:List[int]=range(2,1703), # column indices of wavenumbers\n",
    "                ):\n",
    "    \"Loads spectra (features) & associated wavenumbers, organization name, sample ids\"\n",
    "    df = pd.read_csv(fname)                 \n",
    "    orgs, smp_ids, wns, spectra = [d.to_numpy() for d in [df[org_name], \n",
    "                                                          df[id_name], \n",
    "                                                          df.columns[wn_colrange].astype(int), \n",
    "                                                          df.iloc[:, range(2,1703)]]]\n",
    "    return orgs, smp_ids, wns, spectra, df"
   ]
  },
  {
   "cell_type": "code",
   "execution_count": null,
   "metadata": {},
   "outputs": [],
   "source": [
    "fname = './files/RT_STD_allMIRspectra_raw.csv'\n",
    "orgs, smp_ids, wns, spectra, df = get_spectra(fname)"
   ]
  },
  {
   "cell_type": "code",
   "execution_count": null,
   "metadata": {},
   "outputs": [
    {
     "data": {
      "text/html": [
       "<div>\n",
       "<style scoped>\n",
       "    .dataframe tbody tr th:only-of-type {\n",
       "        vertical-align: middle;\n",
       "    }\n",
       "\n",
       "    .dataframe tbody tr th {\n",
       "        vertical-align: top;\n",
       "    }\n",
       "\n",
       "    .dataframe thead th {\n",
       "        text-align: right;\n",
       "    }\n",
       "</style>\n",
       "<table border=\"1\" class=\"dataframe\">\n",
       "  <thead>\n",
       "    <tr style=\"text-align: right;\">\n",
       "      <th></th>\n",
       "      <th>organization</th>\n",
       "      <th>sample_id</th>\n",
       "      <th>600</th>\n",
       "      <th>602</th>\n",
       "      <th>604</th>\n",
       "      <th>606</th>\n",
       "      <th>608</th>\n",
       "      <th>610</th>\n",
       "      <th>612</th>\n",
       "      <th>614</th>\n",
       "      <th>...</th>\n",
       "      <th>3982</th>\n",
       "      <th>3984</th>\n",
       "      <th>3986</th>\n",
       "      <th>3988</th>\n",
       "      <th>3990</th>\n",
       "      <th>3992</th>\n",
       "      <th>3994</th>\n",
       "      <th>3996</th>\n",
       "      <th>3998</th>\n",
       "      <th>4000</th>\n",
       "    </tr>\n",
       "  </thead>\n",
       "  <tbody>\n",
       "    <tr>\n",
       "      <th>0</th>\n",
       "      <td>Agrocares</td>\n",
       "      <td>RT_01</td>\n",
       "      <td>2.14711</td>\n",
       "      <td>2.13471</td>\n",
       "      <td>2.12274</td>\n",
       "      <td>2.11369</td>\n",
       "      <td>2.10487</td>\n",
       "      <td>2.09844</td>\n",
       "      <td>2.09177</td>\n",
       "      <td>2.08036</td>\n",
       "      <td>...</td>\n",
       "      <td>1.09917</td>\n",
       "      <td>1.09898</td>\n",
       "      <td>1.09877</td>\n",
       "      <td>1.09851</td>\n",
       "      <td>1.09827</td>\n",
       "      <td>1.09811</td>\n",
       "      <td>1.09797</td>\n",
       "      <td>1.09797</td>\n",
       "      <td>1.09797</td>\n",
       "      <td>1.09797</td>\n",
       "    </tr>\n",
       "    <tr>\n",
       "      <th>1</th>\n",
       "      <td>Agrocares</td>\n",
       "      <td>RT_02</td>\n",
       "      <td>2.32404</td>\n",
       "      <td>2.33516</td>\n",
       "      <td>2.34558</td>\n",
       "      <td>2.35114</td>\n",
       "      <td>2.35641</td>\n",
       "      <td>2.35855</td>\n",
       "      <td>2.36069</td>\n",
       "      <td>2.36288</td>\n",
       "      <td>...</td>\n",
       "      <td>1.24065</td>\n",
       "      <td>1.24042</td>\n",
       "      <td>1.24015</td>\n",
       "      <td>1.23977</td>\n",
       "      <td>1.23938</td>\n",
       "      <td>1.23896</td>\n",
       "      <td>1.23861</td>\n",
       "      <td>1.23861</td>\n",
       "      <td>1.23861</td>\n",
       "      <td>1.23861</td>\n",
       "    </tr>\n",
       "    <tr>\n",
       "      <th>2</th>\n",
       "      <td>Agrocares</td>\n",
       "      <td>RT_03</td>\n",
       "      <td>2.50423</td>\n",
       "      <td>2.50755</td>\n",
       "      <td>2.50973</td>\n",
       "      <td>2.50403</td>\n",
       "      <td>2.49913</td>\n",
       "      <td>2.50261</td>\n",
       "      <td>2.50697</td>\n",
       "      <td>2.52910</td>\n",
       "      <td>...</td>\n",
       "      <td>1.25036</td>\n",
       "      <td>1.24959</td>\n",
       "      <td>1.24877</td>\n",
       "      <td>1.24777</td>\n",
       "      <td>1.24679</td>\n",
       "      <td>1.24585</td>\n",
       "      <td>1.24505</td>\n",
       "      <td>1.24505</td>\n",
       "      <td>1.24505</td>\n",
       "      <td>1.24505</td>\n",
       "    </tr>\n",
       "    <tr>\n",
       "      <th>3</th>\n",
       "      <td>Agrocares</td>\n",
       "      <td>RT_04</td>\n",
       "      <td>2.30902</td>\n",
       "      <td>2.29788</td>\n",
       "      <td>2.28667</td>\n",
       "      <td>2.27490</td>\n",
       "      <td>2.26393</td>\n",
       "      <td>2.26128</td>\n",
       "      <td>2.25905</td>\n",
       "      <td>2.26521</td>\n",
       "      <td>...</td>\n",
       "      <td>1.15192</td>\n",
       "      <td>1.15176</td>\n",
       "      <td>1.15158</td>\n",
       "      <td>1.15132</td>\n",
       "      <td>1.15106</td>\n",
       "      <td>1.15080</td>\n",
       "      <td>1.15058</td>\n",
       "      <td>1.15058</td>\n",
       "      <td>1.15058</td>\n",
       "      <td>1.15058</td>\n",
       "    </tr>\n",
       "    <tr>\n",
       "      <th>4</th>\n",
       "      <td>Agrocares</td>\n",
       "      <td>RT_05</td>\n",
       "      <td>2.28727</td>\n",
       "      <td>2.28852</td>\n",
       "      <td>2.29013</td>\n",
       "      <td>2.29434</td>\n",
       "      <td>2.29856</td>\n",
       "      <td>2.30286</td>\n",
       "      <td>2.30700</td>\n",
       "      <td>2.30782</td>\n",
       "      <td>...</td>\n",
       "      <td>1.16109</td>\n",
       "      <td>1.16106</td>\n",
       "      <td>1.16102</td>\n",
       "      <td>1.16095</td>\n",
       "      <td>1.16086</td>\n",
       "      <td>1.16070</td>\n",
       "      <td>1.16056</td>\n",
       "      <td>1.16056</td>\n",
       "      <td>1.16056</td>\n",
       "      <td>1.16056</td>\n",
       "    </tr>\n",
       "  </tbody>\n",
       "</table>\n",
       "<p>5 rows × 1703 columns</p>\n",
       "</div>"
      ],
      "text/plain": [
       "  organization sample_id      600      602      604      606      608  \\\n",
       "0    Agrocares     RT_01  2.14711  2.13471  2.12274  2.11369  2.10487   \n",
       "1    Agrocares     RT_02  2.32404  2.33516  2.34558  2.35114  2.35641   \n",
       "2    Agrocares     RT_03  2.50423  2.50755  2.50973  2.50403  2.49913   \n",
       "3    Agrocares     RT_04  2.30902  2.29788  2.28667  2.27490  2.26393   \n",
       "4    Agrocares     RT_05  2.28727  2.28852  2.29013  2.29434  2.29856   \n",
       "\n",
       "       610      612      614  ...     3982     3984     3986     3988  \\\n",
       "0  2.09844  2.09177  2.08036  ...  1.09917  1.09898  1.09877  1.09851   \n",
       "1  2.35855  2.36069  2.36288  ...  1.24065  1.24042  1.24015  1.23977   \n",
       "2  2.50261  2.50697  2.52910  ...  1.25036  1.24959  1.24877  1.24777   \n",
       "3  2.26128  2.25905  2.26521  ...  1.15192  1.15176  1.15158  1.15132   \n",
       "4  2.30286  2.30700  2.30782  ...  1.16109  1.16106  1.16102  1.16095   \n",
       "\n",
       "      3990     3992     3994     3996     3998     4000  \n",
       "0  1.09827  1.09811  1.09797  1.09797  1.09797  1.09797  \n",
       "1  1.23938  1.23896  1.23861  1.23861  1.23861  1.23861  \n",
       "2  1.24679  1.24585  1.24505  1.24505  1.24505  1.24505  \n",
       "3  1.15106  1.15080  1.15058  1.15058  1.15058  1.15058  \n",
       "4  1.16086  1.16070  1.16056  1.16056  1.16056  1.16056  \n",
       "\n",
       "[5 rows x 1703 columns]"
      ]
     },
     "execution_count": null,
     "metadata": {},
     "output_type": "execute_result"
    }
   ],
   "source": [
    "df.head()"
   ]
  },
  {
   "cell_type": "code",
   "execution_count": null,
   "metadata": {},
   "outputs": [
    {
     "name": "stdout",
     "output_type": "stream",
     "text": [
      "orgs: ['Agrocares' 'Agrocares' 'Agrocares' ... 'Woodwell_vertex'\n",
      " 'Woodwell_vertex' 'Woodwell_vertex']\n",
      "smp_ids: ['RT_01' 'RT_02' 'RT_03' ... 'RT_68' 'RT_69' 'RT_70']\n",
      "wns: [ 600  602  604 ... 3996 3998 4000]\n",
      "spectra shape: (1118, 1701)\n"
     ]
    }
   ],
   "source": [
    "print(f'orgs: {orgs}')\n",
    "print(f'smp_ids: {smp_ids}')\n",
    "print(f'wns: {wns}')\n",
    "print(f'spectra shape: {spectra.shape}')"
   ]
  },
  {
   "cell_type": "code",
   "execution_count": null,
   "metadata": {},
   "outputs": [],
   "source": [
    "#|export\n",
    "def get_wetchem(fname:str, # folder path containing data\n",
    "                analyte:str='clay_perc', # analyte name\n",
    "                dropna:bool=True # whether or not you want to get rid of NaN values\n",
    "                ):\n",
    "    \"Loads wet chemistry (target)\"\n",
    "    df = pd.read_csv(fname)\n",
    "    df.fillna(df.iloc[:, 2:].mean(), inplace=True)\n",
    "    df_select = df[analyte]\n",
    "    y, y_napt = df_select[:60], df_select[60:]\n",
    "    return y.to_numpy(), y_napt.to_numpy(), df"
   ]
  },
  {
   "cell_type": "code",
   "execution_count": null,
   "metadata": {},
   "outputs": [],
   "source": [
    "fname = './files/RT_wetchem_soildata.csv'\n",
    "y, y_napt, df = get_wetchem(fname)"
   ]
  },
  {
   "cell_type": "code",
   "execution_count": null,
   "metadata": {},
   "outputs": [
    {
     "data": {
      "text/plain": [
       "(70, 8)"
      ]
     },
     "execution_count": null,
     "metadata": {},
     "output_type": "execute_result"
    }
   ],
   "source": [
    "df.shape"
   ]
  },
  {
   "cell_type": "code",
   "execution_count": null,
   "metadata": {},
   "outputs": [
    {
     "data": {
      "text/plain": [
       "array([ 6.28199   ,  4.44442   , 42.19991   , 17.10475   , 17.22985   ,\n",
       "       18.20389   , 17.07796   , 27.46067   , 12.91032   , 21.88833   ,\n",
       "       17.47756   , 41.04345   , 16.95715   ,  5.1238    , 15.98527   ,\n",
       "       21.40597   , 21.31223   , 21.5113    , 21.0915    , 38.90257   ,\n",
       "        2.19527   , 27.65285   ,  0.92417   , 12.71177   , 12.99189   ,\n",
       "       27.1811    , 26.85221   , 21.51316   , 21.31897   , 21.2085    ,\n",
       "       20.96345   , 39.79006   , 43.33046   , 24.97947   , 16.73154   ,\n",
       "       12.85499   , 13.04752   , 27.75883   , 36.70255   , 16.00733   ,\n",
       "       15.95912   , 22.71649246, 33.13734   ,  0.        , 39.87246   ,\n",
       "       41.92131   , 39.77298   , 30.38773   , 32.40552   , 17.04644   ,\n",
       "       18.67273   , 34.20548   , 39.75466   , 35.47979   , 43.45771   ,\n",
       "       17.35687   , 18.76691   , 29.71495   , 31.81229   , 15.38471   ])"
      ]
     },
     "execution_count": null,
     "metadata": {},
     "output_type": "execute_result"
    }
   ],
   "source": [
    "y"
   ]
  },
  {
   "cell_type": "code",
   "execution_count": null,
   "metadata": {},
   "outputs": [
    {
     "data": {
      "text/plain": [
       "array([15.2,  4.1, 26.9,  3.6, 19.1, 25. , 28.4, 20. , 49.3,  8.4])"
      ]
     },
     "execution_count": null,
     "metadata": {},
     "output_type": "execute_result"
    }
   ],
   "source": [
    "y_napt"
   ]
  }
 ],
 "metadata": {
  "kernelspec": {
   "display_name": "Python 3 (ipykernel)",
   "language": "python",
   "name": "python3"
  }
 },
 "nbformat": 4,
 "nbformat_minor": 2
}
