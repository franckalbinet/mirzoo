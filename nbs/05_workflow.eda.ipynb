{
 "cells": [
  {
   "cell_type": "code",
   "execution_count": null,
   "id": "ac9e4949",
   "metadata": {},
   "outputs": [],
   "source": [
    "#|default_exp workflow.eda"
   ]
  },
  {
   "cell_type": "code",
   "execution_count": null,
   "id": "8451da14",
   "metadata": {},
   "outputs": [
    {
     "name": "stdout",
     "output_type": "stream",
     "text": [
      "The autoreload extension is already loaded. To reload it, use:\n",
      "  %reload_ext autoreload\n"
     ]
    }
   ],
   "source": [
    "#|hide\n",
    "#from mirzoo.core import *\n",
    "%load_ext autoreload\n",
    "%autoreload 2"
   ]
  },
  {
   "cell_type": "markdown",
   "id": "44504b13",
   "metadata": {},
   "source": [
    "# Exploratory Data Analysis"
   ]
  },
  {
   "cell_type": "code",
   "execution_count": null,
   "id": "3bdb3731",
   "metadata": {},
   "outputs": [],
   "source": [
    "import matplotlib.pyplot as plt\n",
    "from mirzoo.data.loading import get_spectra, get_wetchem\n",
    "\n",
    "import warnings\n",
    "warnings.filterwarnings('ignore')"
   ]
  },
  {
   "cell_type": "code",
   "execution_count": null,
   "id": "39f923ff",
   "metadata": {},
   "outputs": [],
   "source": [
    "# Data loading\n",
    "fname = './files/RT_STD_allMIRspectra_raw.csv'\n",
    "orgs, smp_ids, wns, spectra, df_sp = get_spectra(fname)\n",
    "\n",
    "fname = './files/RT_wetchem_soildata.csv'\n",
    "y, y_napt, df = get_wetchem(fname)"
   ]
  },
  {
   "cell_type": "code",
   "execution_count": null,
   "id": "be424b2e",
   "metadata": {},
   "outputs": [
    {
     "data": {
      "text/html": [
       "<div>\n",
       "<style scoped>\n",
       "    .dataframe tbody tr th:only-of-type {\n",
       "        vertical-align: middle;\n",
       "    }\n",
       "\n",
       "    .dataframe tbody tr th {\n",
       "        vertical-align: top;\n",
       "    }\n",
       "\n",
       "    .dataframe thead th {\n",
       "        text-align: right;\n",
       "    }\n",
       "</style>\n",
       "<table border=\"1\" class=\"dataframe\">\n",
       "  <thead>\n",
       "    <tr style=\"text-align: right;\">\n",
       "      <th></th>\n",
       "      <th>organization</th>\n",
       "      <th>sample_id</th>\n",
       "      <th>600</th>\n",
       "      <th>602</th>\n",
       "      <th>604</th>\n",
       "      <th>606</th>\n",
       "      <th>608</th>\n",
       "      <th>610</th>\n",
       "      <th>612</th>\n",
       "      <th>614</th>\n",
       "      <th>...</th>\n",
       "      <th>3982</th>\n",
       "      <th>3984</th>\n",
       "      <th>3986</th>\n",
       "      <th>3988</th>\n",
       "      <th>3990</th>\n",
       "      <th>3992</th>\n",
       "      <th>3994</th>\n",
       "      <th>3996</th>\n",
       "      <th>3998</th>\n",
       "      <th>4000</th>\n",
       "    </tr>\n",
       "  </thead>\n",
       "  <tbody>\n",
       "    <tr>\n",
       "      <th>0</th>\n",
       "      <td>Agrocares</td>\n",
       "      <td>RT_01</td>\n",
       "      <td>2.14711</td>\n",
       "      <td>2.13471</td>\n",
       "      <td>2.12274</td>\n",
       "      <td>2.11369</td>\n",
       "      <td>2.10487</td>\n",
       "      <td>2.09844</td>\n",
       "      <td>2.09177</td>\n",
       "      <td>2.08036</td>\n",
       "      <td>...</td>\n",
       "      <td>1.09917</td>\n",
       "      <td>1.09898</td>\n",
       "      <td>1.09877</td>\n",
       "      <td>1.09851</td>\n",
       "      <td>1.09827</td>\n",
       "      <td>1.09811</td>\n",
       "      <td>1.09797</td>\n",
       "      <td>1.09797</td>\n",
       "      <td>1.09797</td>\n",
       "      <td>1.09797</td>\n",
       "    </tr>\n",
       "    <tr>\n",
       "      <th>1</th>\n",
       "      <td>Agrocares</td>\n",
       "      <td>RT_02</td>\n",
       "      <td>2.32404</td>\n",
       "      <td>2.33516</td>\n",
       "      <td>2.34558</td>\n",
       "      <td>2.35114</td>\n",
       "      <td>2.35641</td>\n",
       "      <td>2.35855</td>\n",
       "      <td>2.36069</td>\n",
       "      <td>2.36288</td>\n",
       "      <td>...</td>\n",
       "      <td>1.24065</td>\n",
       "      <td>1.24042</td>\n",
       "      <td>1.24015</td>\n",
       "      <td>1.23977</td>\n",
       "      <td>1.23938</td>\n",
       "      <td>1.23896</td>\n",
       "      <td>1.23861</td>\n",
       "      <td>1.23861</td>\n",
       "      <td>1.23861</td>\n",
       "      <td>1.23861</td>\n",
       "    </tr>\n",
       "    <tr>\n",
       "      <th>2</th>\n",
       "      <td>Agrocares</td>\n",
       "      <td>RT_03</td>\n",
       "      <td>2.50423</td>\n",
       "      <td>2.50755</td>\n",
       "      <td>2.50973</td>\n",
       "      <td>2.50403</td>\n",
       "      <td>2.49913</td>\n",
       "      <td>2.50261</td>\n",
       "      <td>2.50697</td>\n",
       "      <td>2.52910</td>\n",
       "      <td>...</td>\n",
       "      <td>1.25036</td>\n",
       "      <td>1.24959</td>\n",
       "      <td>1.24877</td>\n",
       "      <td>1.24777</td>\n",
       "      <td>1.24679</td>\n",
       "      <td>1.24585</td>\n",
       "      <td>1.24505</td>\n",
       "      <td>1.24505</td>\n",
       "      <td>1.24505</td>\n",
       "      <td>1.24505</td>\n",
       "    </tr>\n",
       "    <tr>\n",
       "      <th>3</th>\n",
       "      <td>Agrocares</td>\n",
       "      <td>RT_04</td>\n",
       "      <td>2.30902</td>\n",
       "      <td>2.29788</td>\n",
       "      <td>2.28667</td>\n",
       "      <td>2.27490</td>\n",
       "      <td>2.26393</td>\n",
       "      <td>2.26128</td>\n",
       "      <td>2.25905</td>\n",
       "      <td>2.26521</td>\n",
       "      <td>...</td>\n",
       "      <td>1.15192</td>\n",
       "      <td>1.15176</td>\n",
       "      <td>1.15158</td>\n",
       "      <td>1.15132</td>\n",
       "      <td>1.15106</td>\n",
       "      <td>1.15080</td>\n",
       "      <td>1.15058</td>\n",
       "      <td>1.15058</td>\n",
       "      <td>1.15058</td>\n",
       "      <td>1.15058</td>\n",
       "    </tr>\n",
       "    <tr>\n",
       "      <th>4</th>\n",
       "      <td>Agrocares</td>\n",
       "      <td>RT_05</td>\n",
       "      <td>2.28727</td>\n",
       "      <td>2.28852</td>\n",
       "      <td>2.29013</td>\n",
       "      <td>2.29434</td>\n",
       "      <td>2.29856</td>\n",
       "      <td>2.30286</td>\n",
       "      <td>2.30700</td>\n",
       "      <td>2.30782</td>\n",
       "      <td>...</td>\n",
       "      <td>1.16109</td>\n",
       "      <td>1.16106</td>\n",
       "      <td>1.16102</td>\n",
       "      <td>1.16095</td>\n",
       "      <td>1.16086</td>\n",
       "      <td>1.16070</td>\n",
       "      <td>1.16056</td>\n",
       "      <td>1.16056</td>\n",
       "      <td>1.16056</td>\n",
       "      <td>1.16056</td>\n",
       "    </tr>\n",
       "  </tbody>\n",
       "</table>\n",
       "<p>5 rows × 1703 columns</p>\n",
       "</div>"
      ],
      "text/plain": [
       "  organization sample_id      600      602      604      606      608  \\\n",
       "0    Agrocares     RT_01  2.14711  2.13471  2.12274  2.11369  2.10487   \n",
       "1    Agrocares     RT_02  2.32404  2.33516  2.34558  2.35114  2.35641   \n",
       "2    Agrocares     RT_03  2.50423  2.50755  2.50973  2.50403  2.49913   \n",
       "3    Agrocares     RT_04  2.30902  2.29788  2.28667  2.27490  2.26393   \n",
       "4    Agrocares     RT_05  2.28727  2.28852  2.29013  2.29434  2.29856   \n",
       "\n",
       "       610      612      614  ...     3982     3984     3986     3988  \\\n",
       "0  2.09844  2.09177  2.08036  ...  1.09917  1.09898  1.09877  1.09851   \n",
       "1  2.35855  2.36069  2.36288  ...  1.24065  1.24042  1.24015  1.23977   \n",
       "2  2.50261  2.50697  2.52910  ...  1.25036  1.24959  1.24877  1.24777   \n",
       "3  2.26128  2.25905  2.26521  ...  1.15192  1.15176  1.15158  1.15132   \n",
       "4  2.30286  2.30700  2.30782  ...  1.16109  1.16106  1.16102  1.16095   \n",
       "\n",
       "      3990     3992     3994     3996     3998     4000  \n",
       "0  1.09827  1.09811  1.09797  1.09797  1.09797  1.09797  \n",
       "1  1.23938  1.23896  1.23861  1.23861  1.23861  1.23861  \n",
       "2  1.24679  1.24585  1.24505  1.24505  1.24505  1.24505  \n",
       "3  1.15106  1.15080  1.15058  1.15058  1.15058  1.15058  \n",
       "4  1.16086  1.16070  1.16056  1.16056  1.16056  1.16056  \n",
       "\n",
       "[5 rows x 1703 columns]"
      ]
     },
     "execution_count": null,
     "metadata": {},
     "output_type": "execute_result"
    }
   ],
   "source": [
    "df_sp.head()"
   ]
  },
  {
   "cell_type": "markdown",
   "id": "12ce3f29",
   "metadata": {},
   "source": [
    "What are the organizations involved?"
   ]
  },
  {
   "cell_type": "code",
   "execution_count": null,
   "id": "29aeafc9",
   "metadata": {},
   "outputs": [
    {
     "data": {
      "text/plain": [
       "array(['Agrocares', 'Argonne', 'ETH_alpha_1', 'ETH_alpha_2', 'ETH_vertex',\n",
       "       'IAEA_jun2022', 'KSSL', 'LandCare', 'Lesotho', 'MSU', 'OSU',\n",
       "       'UGhent', 'UIUC', 'UWisc_fine', 'Woodwell_alpha',\n",
       "       'Woodwell_vertex'], dtype=object)"
      ]
     },
     "execution_count": null,
     "metadata": {},
     "output_type": "execute_result"
    }
   ],
   "source": [
    "df_sp['organization'].unique()"
   ]
  },
  {
   "cell_type": "markdown",
   "id": "c9ba8f27",
   "metadata": {},
   "source": [
    "How many samples per organization?"
   ]
  },
  {
   "cell_type": "code",
   "execution_count": null,
   "id": "49a87192",
   "metadata": {},
   "outputs": [
    {
     "data": {
      "text/plain": [
       "organization\n",
       "Agrocares          70\n",
       "Argonne            70\n",
       "ETH_alpha_1        70\n",
       "ETH_alpha_2        70\n",
       "ETH_vertex         70\n",
       "IAEA_jun2022       68\n",
       "KSSL               70\n",
       "LandCare           70\n",
       "Lesotho            70\n",
       "MSU                70\n",
       "OSU                70\n",
       "UGhent             70\n",
       "UIUC               70\n",
       "UWisc_fine         70\n",
       "Woodwell_alpha     70\n",
       "Woodwell_vertex    70\n",
       "dtype: int64"
      ]
     },
     "execution_count": null,
     "metadata": {},
     "output_type": "execute_result"
    }
   ],
   "source": [
    "df_sp.groupby('organization').size()"
   ]
  },
  {
   "cell_type": "code",
   "execution_count": null,
   "id": "5b70e0e6",
   "metadata": {},
   "outputs": [
    {
     "data": {
      "text/html": [
       "<div>\n",
       "<style scoped>\n",
       "    .dataframe tbody tr th:only-of-type {\n",
       "        vertical-align: middle;\n",
       "    }\n",
       "\n",
       "    .dataframe tbody tr th {\n",
       "        vertical-align: top;\n",
       "    }\n",
       "\n",
       "    .dataframe thead th {\n",
       "        text-align: right;\n",
       "    }\n",
       "</style>\n",
       "<table border=\"1\" class=\"dataframe\">\n",
       "  <thead>\n",
       "    <tr style=\"text-align: right;\">\n",
       "      <th></th>\n",
       "      <th>sample_id</th>\n",
       "      <th>source</th>\n",
       "      <th>clay_perc</th>\n",
       "      <th>pH_H20</th>\n",
       "      <th>carbon_tot_perc</th>\n",
       "      <th>carbon_org_perc</th>\n",
       "      <th>potassium_cmolkg</th>\n",
       "      <th>phosporus_mgkg</th>\n",
       "    </tr>\n",
       "  </thead>\n",
       "  <tbody>\n",
       "    <tr>\n",
       "      <th>0</th>\n",
       "      <td>RT_01</td>\n",
       "      <td>KSSL</td>\n",
       "      <td>6.28199</td>\n",
       "      <td>4.8525</td>\n",
       "      <td>0.61170</td>\n",
       "      <td>0.61170</td>\n",
       "      <td>0.26906</td>\n",
       "      <td>5.59999</td>\n",
       "    </tr>\n",
       "    <tr>\n",
       "      <th>1</th>\n",
       "      <td>RT_02</td>\n",
       "      <td>KSSL</td>\n",
       "      <td>4.44442</td>\n",
       "      <td>4.5850</td>\n",
       "      <td>3.48602</td>\n",
       "      <td>3.48602</td>\n",
       "      <td>0.23349</td>\n",
       "      <td>19.28365</td>\n",
       "    </tr>\n",
       "    <tr>\n",
       "      <th>2</th>\n",
       "      <td>RT_03</td>\n",
       "      <td>KSSL</td>\n",
       "      <td>42.19991</td>\n",
       "      <td>4.2300</td>\n",
       "      <td>0.25716</td>\n",
       "      <td>0.25716</td>\n",
       "      <td>0.29109</td>\n",
       "      <td>NaN</td>\n",
       "    </tr>\n",
       "    <tr>\n",
       "      <th>3</th>\n",
       "      <td>RT_04</td>\n",
       "      <td>KSSL</td>\n",
       "      <td>17.10475</td>\n",
       "      <td>6.5300</td>\n",
       "      <td>1.97755</td>\n",
       "      <td>1.97755</td>\n",
       "      <td>0.49925</td>\n",
       "      <td>NaN</td>\n",
       "    </tr>\n",
       "    <tr>\n",
       "      <th>4</th>\n",
       "      <td>RT_05</td>\n",
       "      <td>KSSL</td>\n",
       "      <td>17.22985</td>\n",
       "      <td>6.4700</td>\n",
       "      <td>2.14765</td>\n",
       "      <td>2.13584</td>\n",
       "      <td>0.59977</td>\n",
       "      <td>NaN</td>\n",
       "    </tr>\n",
       "  </tbody>\n",
       "</table>\n",
       "</div>"
      ],
      "text/plain": [
       "  sample_id source  clay_perc  pH_H20  carbon_tot_perc  carbon_org_perc  \\\n",
       "0     RT_01   KSSL    6.28199  4.8525          0.61170          0.61170   \n",
       "1     RT_02   KSSL    4.44442  4.5850          3.48602          3.48602   \n",
       "2     RT_03   KSSL   42.19991  4.2300          0.25716          0.25716   \n",
       "3     RT_04   KSSL   17.10475  6.5300          1.97755          1.97755   \n",
       "4     RT_05   KSSL   17.22985  6.4700          2.14765          2.13584   \n",
       "\n",
       "   potassium_cmolkg  phosporus_mgkg  \n",
       "0           0.26906         5.59999  \n",
       "1           0.23349        19.28365  \n",
       "2           0.29109             NaN  \n",
       "3           0.49925             NaN  \n",
       "4           0.59977             NaN  "
      ]
     },
     "execution_count": null,
     "metadata": {},
     "output_type": "execute_result"
    }
   ],
   "source": [
    "df_wc.head()"
   ]
  },
  {
   "cell_type": "markdown",
   "id": "1b1d4567",
   "metadata": {},
   "source": [
    "Where is wet chemistry coming from?"
   ]
  },
  {
   "cell_type": "code",
   "execution_count": null,
   "id": "7f34f9f4",
   "metadata": {},
   "outputs": [
    {
     "data": {
      "text/plain": [
       "array(['KSSL', 'NAPT'], dtype=object)"
      ]
     },
     "execution_count": null,
     "metadata": {},
     "output_type": "execute_result"
    }
   ],
   "source": [
    "df_wc['source'].unique()"
   ]
  },
  {
   "cell_type": "markdown",
   "id": "f3321765",
   "metadata": {},
   "source": [
    "What are analytes distribution for KSSL & NAPT wet chemistry?\n",
    "\n",
    "* KSSL"
   ]
  },
  {
   "cell_type": "code",
   "execution_count": null,
   "id": "78cb557b",
   "metadata": {},
   "outputs": [
    {
     "data": {
      "image/png": "[encoded data removed]",
      "text/plain": [
       "<Figure size 1080x1080 with 6 Axes>"
      ]
     },
     "metadata": {
      "needs_background": "light"
     },
     "output_type": "display_data"
    }
   ],
   "source": [
    "fig = plt.figure(figsize = (15,15))\n",
    "ax = fig.gca()\n",
    "df_wc.query('source==\"KSSL\"').hist(ax = ax);"
   ]
  },
  {
   "cell_type": "markdown",
   "id": "4d57170d",
   "metadata": {},
   "source": [
    "* NAPT"
   ]
  },
  {
   "cell_type": "code",
   "execution_count": null,
   "id": "09805aa4",
   "metadata": {},
   "outputs": [
    {
     "data": {
      "image/png": "[encoded data removed]",
      "text/plain": [
       "<Figure size 1080x1080 with 6 Axes>"
      ]
     },
     "metadata": {
      "needs_background": "light"
     },
     "output_type": "display_data"
    }
   ],
   "source": [
    "fig = plt.figure(figsize = (15,15))\n",
    "ax = fig.gca()\n",
    "df_wc.query('source==\"NAPT\"').hist(ax = ax);"
   ]
  },
  {
   "cell_type": "code",
   "execution_count": null,
   "id": "d9d4bcef",
   "metadata": {},
   "outputs": [],
   "source": []
  }
 ],
 "metadata": {
  "kernelspec": {
   "display_name": "Python 3 (ipykernel)",
   "language": "python",
   "name": "python3"
  }
 },
 "nbformat": 4,
 "nbformat_minor": 5
}
